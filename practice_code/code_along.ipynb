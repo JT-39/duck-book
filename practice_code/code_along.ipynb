{
 "cells": [
  {
   "cell_type": "markdown",
   "metadata": {},
   "source": [
    "Difference between functions and classes"
   ]
  },
  {
   "cell_type": "code",
   "execution_count": 9,
   "metadata": {},
   "outputs": [],
   "source": [
    "# Defining a class with a diagnose method\n",
    "class Car:\n",
    "    \"\"\"A car class\"\"\"\n",
    "    wheels = 4\n",
    "    def __init__(self, brand):\n",
    "        self.brand = brand\n",
    "\n",
    "    def diagnose(self):\n",
    "        print(f\"Diagnosing {self.brand} car...\")\n",
    "\n",
    "# versus defining a standalone diagnosis function\n",
    "def diagnose(car):\n",
    "    \"\"\"A car diagnosis function\"\"\"\n",
    "    brand = car.get(\"brand\", \"Unknown\")\n",
    "    wheels = car.get(\"wheels\", 0)\n",
    "    print(f\"Diagnosing {brand} car with {wheels} wheels...\")\n"
   ]
  },
  {
   "cell_type": "code",
   "execution_count": 8,
   "metadata": {},
   "outputs": [
    {
     "name": "stdout",
     "output_type": "stream",
     "text": [
      "Diagnosing Cadillac car...\n"
     ]
    }
   ],
   "source": [
    "# Calling a method on a class instance that holds it's own state\n",
    "cadillac = Car(brand=\"Cadillac\")\n",
    "cadillac.diagnose()"
   ]
  },
  {
   "cell_type": "code",
   "execution_count": 10,
   "metadata": {},
   "outputs": [
    {
     "name": "stdout",
     "output_type": "stream",
     "text": [
      "Diagnosing Cadillac car with 4 wheels...\n"
     ]
    }
   ],
   "source": [
    "# Calling a function by passing all relevant information explicitly\n",
    "# Note: for the sake of variety the information about the car is represented in a dictionary\n",
    "diagnose({\"brand\":\"Cadillac\", \"wheels\":4})"
   ]
  },
  {
   "cell_type": "markdown",
   "metadata": {},
   "source": [
    "Bank account represented by the BankAccount class.\n",
    "This can have many instances of this class (many unique bank accounts), each defined by the following internal state:\n",
    "\n",
    "- owner name\n",
    "- account number\n",
    "- balance"
   ]
  },
  {
   "cell_type": "code",
   "execution_count": 44,
   "metadata": {},
   "outputs": [],
   "source": [
    "class BankAccount:\n",
    "    def __init__(self, balance, credentials):\n",
    "        self._balance = balance\n",
    "        self._credentials = credentials\n",
    "\n",
    "    def _private_withdraw(self, amount):\n",
    "        \"\"\"Private withdrawal helper method.\"\"\"\n",
    "        self._balance -= amount\n",
    "\n",
    "    def _check_credentials(self, credentials):\n",
    "        \"\"\"Private check helper method.\"\"\"\n",
    "        if credentials == self._credentials:\n",
    "            return True\n",
    "        else:\n",
    "            return False\n",
    "\n",
    "    def withdraw(self, credentials, amount):\n",
    "        \"\"\"Public withdrawal method.\"\"\"\n",
    "        if self._check_credentials(credentials):\n",
    "            self._private_withdraw(amount)\n",
    "            return print(f\"Withdrawn ${amount}. New balance: ${self._balance}\")"
   ]
  },
  {
   "cell_type": "code",
   "execution_count": 45,
   "metadata": {},
   "outputs": [
    {
     "name": "stdout",
     "output_type": "stream",
     "text": [
      "Withdrawn $7. New balance: $3\n",
      "Withdrawn $2. New balance: $1\n"
     ]
    }
   ],
   "source": [
    "# Setting up the account\n",
    "account = BankAccount(balance=10, credentials='JT')\n",
    "\n",
    "# First withdrawal\n",
    "account.withdraw(credentials=\"JT\", amount=7)\n",
    "\n",
    "# Second withdrawal\n",
    "account.withdraw(credentials=\"JT\", amount=2)"
   ]
  },
  {
   "cell_type": "markdown",
   "metadata": {},
   "source": [
    "Interfaces"
   ]
  },
  {
   "cell_type": "code",
   "execution_count": 48,
   "metadata": {},
   "outputs": [],
   "source": [
    "from abc import ABC, abstractmethod\n",
    "\n",
    "class FileHandler(ABC):\n",
    "    \"\"\"An abstract class for reading and writing\"\"\"\n",
    "    @abstractmethod\n",
    "    def write(self, data):\n",
    "        pass\n",
    "\n",
    "    @abstractmethod\n",
    "    def read(self, query):\n",
    "        pass\n",
    "\n",
    "class CsvHandler(FileHandler):\n",
    "    ...\n",
    "    def write(self, data):\n",
    "       return write_to_file(data, self.filename)\n",
    "\n",
    "    def read(self, query):\n",
    "       data = read_csv(self.filename)\n",
    "       data = parse(data)\n",
    "       data = process(query, data)\n",
    "       return data\n",
    "\n",
    "class SqlHandler(FileHandler):\n",
    "    ...\n",
    "    def write(self, data):\n",
    "       connect_to_database(self.connection_url)\n",
    "       return write_to_database(data)\n",
    "\n",
    "    def read(self, query):\n",
    "       data = read_from_database(self.connection_url)\n",
    "       data = process(query, data)\n",
    "       return data"
   ]
  },
  {
   "cell_type": "code",
   "execution_count": null,
   "metadata": {},
   "outputs": [],
   "source": []
  }
 ],
 "metadata": {
  "kernelspec": {
   "display_name": "Python 3",
   "language": "python",
   "name": "python3"
  },
  "language_info": {
   "codemirror_mode": {
    "name": "ipython",
    "version": 3
   },
   "file_extension": ".py",
   "mimetype": "text/x-python",
   "name": "python",
   "nbconvert_exporter": "python",
   "pygments_lexer": "ipython3",
   "version": "3.11.4"
  },
  "orig_nbformat": 4
 },
 "nbformat": 4,
 "nbformat_minor": 2
}
